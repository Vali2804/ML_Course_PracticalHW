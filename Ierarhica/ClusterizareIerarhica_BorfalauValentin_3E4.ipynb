{
 "cells": [
  {
   "cell_type": "markdown",
   "metadata": {},
   "source": [
    "# 1. Preprocessing\n",
    "## a. Dataset Description\n",
    "Provide a brief description of the dataset. What are the attributes, what is the target attribute? What is the purpose of the dataset? Specify which attributes are discrete and continuous.\n",
    "## b. Handling NaN values\n",
    "Identify the NaN's (Not a Number) in your dataset. Remove the rows that contain such values.\n",
    "## c. Statistics\n",
    "Calculate the mean and variance for each numerical attribute.\n",
    "## d. Remove the target attribute\n",
    "Remove the target attribute from your dataset."
   ]
  },
  {
   "cell_type": "code",
   "execution_count": 145,
   "metadata": {},
   "outputs": [
    {
     "name": "stdout",
     "output_type": "stream",
     "text": [
      "Mean values for each attribute:\n",
      " bill_length_mm         43.992793\n",
      "bill_depth_mm          17.164865\n",
      "flipper_length_mm     200.966967\n",
      "body_mass_g          4207.057057\n",
      "dtype: float64\n",
      "Variance values for each attribute:\n",
      " bill_length_mm           29.906333\n",
      "bill_depth_mm             3.877888\n",
      "flipper_length_mm       196.441677\n",
      "body_mass_g          648372.487699\n",
      "dtype: float64\n",
      "Dataset without target attribute:\n",
      "         island  bill_length_mm  bill_depth_mm  flipper_length_mm  body_mass_g  \\\n",
      "0    Torgersen            39.1           18.7              181.0       3750.0   \n",
      "1    Torgersen            39.5           17.4              186.0       3800.0   \n",
      "2    Torgersen            40.3           18.0              195.0       3250.0   \n",
      "4    Torgersen            36.7           19.3              193.0       3450.0   \n",
      "5    Torgersen            39.3           20.6              190.0       3650.0   \n",
      "..         ...             ...            ...                ...          ...   \n",
      "338     Biscoe            47.2           13.7              214.0       4925.0   \n",
      "340     Biscoe            46.8           14.3              215.0       4850.0   \n",
      "341     Biscoe            50.4           15.7              222.0       5750.0   \n",
      "342     Biscoe            45.2           14.8              212.0       5200.0   \n",
      "343     Biscoe            49.9           16.1              213.0       5400.0   \n",
      "\n",
      "        sex  \n",
      "0      MALE  \n",
      "1    FEMALE  \n",
      "2    FEMALE  \n",
      "4    FEMALE  \n",
      "5      MALE  \n",
      "..      ...  \n",
      "338  FEMALE  \n",
      "340  FEMALE  \n",
      "341    MALE  \n",
      "342  FEMALE  \n",
      "343    MALE  \n",
      "\n",
      "[333 rows x 6 columns]\n"
     ]
    }
   ],
   "source": [
    "import pandas as pd\n",
    "import numpy as np\n",
    "\n",
    "\n",
    "\n",
    "# Dataset\n",
    "dataFrame = pd.read_csv('https://raw.githubusercontent.com/Vali2804/ML_setDate/main/penguins.csv')\n",
    "\n",
    "# 1. Preprocessing\n",
    "# Dataset Description \n",
    "\n",
    "#a.\n",
    "# Penguin Dataset Description\n",
    "attributes = ['species', 'island', 'bill_length_mm', 'bill_depth_mm', 'flipper_length_mm', 'body_mass_g']\n",
    "targetAttribute = 'species'\n",
    "purpose = 'Classification'\n",
    "\n",
    "# Attribute types\n",
    "discreteAttributes = ['species', 'island','sex']\n",
    "continuousAttributes = ['bill_length_mm', 'bill_depth_mm', 'flipper_length_mm', 'body_mass_g']\n",
    "\n",
    "# b.\n",
    "# Remove NaN values\n",
    "dataFrame = dataFrame.dropna()\n",
    "\n",
    "# c.\n",
    "# Calculte mean and variance for each attribute\n",
    "num_attributes = dataFrame[['bill_length_mm', 'bill_depth_mm', 'flipper_length_mm', 'body_mass_g']]\n",
    "mean_values = num_attributes.mean()\n",
    "variance_values = num_attributes.var()\n",
    "\n",
    "print('Mean values for each attribute:\\n', mean_values)\n",
    "print('Variance values for each attribute:\\n', variance_values)\n",
    "\n",
    "# d.\n",
    "# Remove the target attribute from the dataset\n",
    "dataFrame = dataFrame.drop(columns=['species'])\n",
    "print('Dataset without target attribute:\\n', dataFrame)\n"
   ]
  },
  {
   "cell_type": "markdown",
   "metadata": {},
   "source": [
    "# 2. Distances\n",
    "## a. Data Preprocessing - Handling Non-Numeric Discrete Attributes\n",
    "- Convert the discrete attributes that are not numeric (such as strings or boolean values) into numerical. If this doesn't apply to your dataset, provide\n",
    "a short explanation on how you would proceed.\n"
   ]
  },
  {
   "cell_type": "code",
   "execution_count": 146,
   "metadata": {},
   "outputs": [
    {
     "name": "stdout",
     "output_type": "stream",
     "text": [
      "Dataset with numeric discrete attributes:\n",
      "      island  bill_length_mm  bill_depth_mm  flipper_length_mm  body_mass_g  \\\n",
      "0         2            39.1           18.7              181.0       3750.0   \n",
      "1         2            39.5           17.4              186.0       3800.0   \n",
      "2         2            40.3           18.0              195.0       3250.0   \n",
      "4         2            36.7           19.3              193.0       3450.0   \n",
      "5         2            39.3           20.6              190.0       3650.0   \n",
      "..      ...             ...            ...                ...          ...   \n",
      "338       0            47.2           13.7              214.0       4925.0   \n",
      "340       0            46.8           14.3              215.0       4850.0   \n",
      "341       0            50.4           15.7              222.0       5750.0   \n",
      "342       0            45.2           14.8              212.0       5200.0   \n",
      "343       0            49.9           16.1              213.0       5400.0   \n",
      "\n",
      "     sex  \n",
      "0      1  \n",
      "1      0  \n",
      "2      0  \n",
      "4      0  \n",
      "5      1  \n",
      "..   ...  \n",
      "338    0  \n",
      "340    0  \n",
      "341    1  \n",
      "342    0  \n",
      "343    1  \n",
      "\n",
      "[333 rows x 6 columns]\n"
     ]
    }
   ],
   "source": [
    "# a. convert discrete attributes to numeric\n",
    "dataFrame['island'] = dataFrame['island'].astype('category').cat.codes\n",
    "dataFrame['sex'] = dataFrame['sex'].astype('category').cat.codes\n",
    "\n",
    "print('Dataset with numeric discrete attributes:\\n', dataFrame)"
   ]
  },
  {
   "cell_type": "markdown",
   "metadata": {},
   "source": [
    "## b. Minkowski Distance \n",
    "Write a function distance_points that calculates the distance between two points. The function should take three parameters: the two points and\n",
    "p , where p indicates the order of the Minkowski distance (remember that p=1 is the equivalent for the Manhattan distance, and p=2 for the\n",
    "Euclidean one)."
   ]
  },
  {
   "cell_type": "code",
   "execution_count": 147,
   "metadata": {},
   "outputs": [
    {
     "name": "stdout",
     "output_type": "stream",
     "text": [
      "Minkowski Distance between [1, 2, 3] and [4, 5, 6] (p=2): 5.196152422706632\n"
     ]
    }
   ],
   "source": [
    "def distance_points(point1, point2, p):\n",
    "    if len(point1) != len(point2):\n",
    "        raise ValueError(\"Points must have the same dimensionality\")\n",
    "\n",
    "    distance = 0\n",
    "    for i in range(len(point1)):\n",
    "        distance += abs(point1[i] - point2[i]) ** p\n",
    "\n",
    "    distance = distance ** (1/p)\n",
    "    return distance\n",
    "\n",
    "point_a = [1, 2, 3]\n",
    "point_b = [4, 5, 6]\n",
    "p_value = 2\n",
    "\n",
    "# testing the function\n",
    "distance = distance_points(point_a, point_b, p_value)\n",
    "print(f\"Minkowski Distance between {point_a} and {point_b} (p={p_value}): {distance}\")\n"
   ]
  },
  {
   "cell_type": "markdown",
   "metadata": {},
   "source": [
    "## c. The function calculate_distance_matrix\n",
    "- Write a function calculate_distance_matrix that creates a lower triangular matrix M , where M[i,j] contains the distance between the instances\n",
    "i and j from the dataset.\n"
   ]
  },
  {
   "cell_type": "code",
   "execution_count": 148,
   "metadata": {},
   "outputs": [
    {
     "name": "stdout",
     "output_type": "stream",
     "text": [
      "Lower Triangular Distance Matrix:\n",
      "[[   0.            0.            0.         ...    0.\n",
      "     0.            0.        ]\n",
      " [  50.27772867    0.            0.         ...    0.\n",
      "     0.            0.        ]\n",
      " [ 500.19889044  550.0745404     0.         ...    0.\n",
      "     0.            0.        ]\n",
      " ...\n",
      " [2000.45537066 1950.36476076 2500.16825434 ...    0.\n",
      "     0.            0.        ]\n",
      " [1450.35113679 1400.25685144 1950.08390845 ...  550.11712389\n",
      "     0.            0.        ]\n",
      " [1650.34887221 1600.2636814  2150.09878145 ...  350.11628068\n",
      "   200.06443962    0.        ]]\n"
     ]
    }
   ],
   "source": [
    "def calculate_distance_matrix(dataset, p):\n",
    "    num_instances = len(dataset)\n",
    "    distance_matrix = np.zeros((num_instances, num_instances))\n",
    "\n",
    "    for i in range(num_instances):\n",
    "        for j in range(i):\n",
    "            point_i = dataset.iloc[i].values\n",
    "            point_j = dataset.iloc[j].values\n",
    "            distance_matrix[i, j] = distance_points(point_i, point_j, p)\n",
    "\n",
    "    return distance_matrix\n",
    "\n",
    "# testing the function\n",
    "distance_matrix = calculate_distance_matrix(dataFrame, p_value)\n",
    "print(\"Lower Triangular Distance Matrix:\")\n",
    "print(distance_matrix)"
   ]
  },
  {
   "cell_type": "markdown",
   "metadata": {},
   "source": [
    "## d. The function closest_points \n",
    "- Write a function closest_points that, given a distance matrix, find the pair of the closest points. The function will take as parameter the distance\n",
    "matrix and will return a tuple of the coordinates.\n"
   ]
  },
  {
   "cell_type": "code",
   "execution_count": 149,
   "metadata": {},
   "outputs": [
    {
     "name": "stdout",
     "output_type": "stream",
     "text": [
      "Closest pair: (278, 215)\n",
      "Distance: 0.5385164807134515\n"
     ]
    }
   ],
   "source": [
    "def closest_points(distance_matrix):\n",
    "    num_instances = len(distance_matrix)\n",
    "    min_distance = float('inf')\n",
    "    closest_pair = None\n",
    "\n",
    "    for i in range(num_instances):\n",
    "        for j in range(i):\n",
    "            if distance_matrix[i, j] < min_distance:\n",
    "                min_distance = distance_matrix[i, j]\n",
    "                closest_pair = (i, j)\n",
    "\n",
    "    return closest_pair\n",
    "\n",
    "# testing the function\n",
    "closest_pair = closest_points(distance_matrix)\n",
    "print(f\"Closest pair: {closest_pair}\")\n",
    "print(f\"Distance: {distance_matrix[closest_pair]}\")\n",
    "\n"
   ]
  },
  {
   "cell_type": "markdown",
   "metadata": {},
   "source": [
    "# 3. Agglomerative Clustering\n",
    "## a. The function update_distance_matrix_complete \n",
    "- Write a function update_distance_matrix_single that updates the distance matrix using the single linkage. The function will take as parameter the\n",
    "distance matrix and the coordinates of the points / clusters that are merged, and will return the updated matrix.\n",
    "Note: You should remove the rows and columns that are no longer used after the merge.\n"
   ]
  },
  {
   "cell_type": "code",
   "execution_count": 150,
   "metadata": {},
   "outputs": [
    {
     "name": "stdout",
     "output_type": "stream",
     "text": [
      "Updated Distance Matrix (Single Linkage):\n",
      "[[   0.            0.            0.         ...    0.\n",
      "     0.            0.        ]\n",
      " [  50.27772867    0.            0.         ...    0.\n",
      "     0.            0.        ]\n",
      " [ 500.19889044  550.0745404     0.         ...    0.\n",
      "     0.            0.        ]\n",
      " ...\n",
      " [2000.45537066 1950.36476076 2500.16825434 ...    0.\n",
      "     0.            0.        ]\n",
      " [1450.35113679 1400.25685144 1950.08390845 ...  550.11712389\n",
      "     0.            0.        ]\n",
      " [1650.34887221 1600.2636814  2150.09878145 ...  350.11628068\n",
      "   200.06443962    0.        ]]\n"
     ]
    }
   ],
   "source": [
    "def update_distance_matrix_single(distance_matrix, merge_coordinates):\n",
    "    i, j = merge_coordinates\n",
    "    num_clusters = len(distance_matrix)\n",
    "\n",
    "    # Calculate distances to the new cluster formed by merging i and j\n",
    "    new_distances = np.minimum(distance_matrix[i, :], distance_matrix[j, :])\n",
    "\n",
    "    # Update the distances in the new cluster's row and column\n",
    "    distance_matrix[i, :] = new_distances\n",
    "    distance_matrix[:, i] = new_distances\n",
    "\n",
    "    # Remove the row and column corresponding to the merged cluster j\n",
    "    distance_matrix = np.delete(distance_matrix, j, axis=0)\n",
    "    distance_matrix = np.delete(distance_matrix, j, axis=1)\n",
    "\n",
    "    return distance_matrix\n",
    "\n",
    "\n",
    "# testing the function\n",
    "updated_distance_matrix = update_distance_matrix_single(distance_matrix, closest_pair)\n",
    "print(\"Updated Distance Matrix (Single Linkage):\")\n",
    "print(updated_distance_matrix)\n"
   ]
  },
  {
   "cell_type": "markdown",
   "metadata": {},
   "source": [
    "## b. The function update_distance_matrix_complete\n",
    "- Write a function update_distance_matrix_complete that updates the distance matrix using the complete linkage. The function will take as parameter\n",
    "the distance matrix and the coordinates of the points / clusters that are merged, and will return the updated matrix.\n"
   ]
  },
  {
   "cell_type": "code",
   "execution_count": 151,
   "metadata": {},
   "outputs": [
    {
     "name": "stdout",
     "output_type": "stream",
     "text": [
      "Updated Distance Matrix (Complete Linkage):\n",
      "[[   0.            0.            0.         ...    0.\n",
      "     0.            0.        ]\n",
      " [  50.27772867    0.            0.         ...    0.\n",
      "     0.            0.        ]\n",
      " [ 500.19889044  550.0745404     0.         ...    0.\n",
      "     0.            0.        ]\n",
      " ...\n",
      " [2000.45537066 1950.36476076 2500.16825434 ...    0.\n",
      "     0.            0.        ]\n",
      " [1450.35113679 1400.25685144 1950.08390845 ...  550.11712389\n",
      "     0.            0.        ]\n",
      " [1650.34887221 1600.2636814  2150.09878145 ...  350.11628068\n",
      "   200.06443962    0.        ]]\n"
     ]
    }
   ],
   "source": [
    "def update_distance_matrix_complete(distance_matrix, merge_coordinates):\n",
    "    i, j = merge_coordinates\n",
    "    num_clusters = len(distance_matrix)\n",
    "\n",
    "    # Calculate distances to the new cluster formed by merging i and j\n",
    "    new_distances = np.maximum(distance_matrix[i, :], distance_matrix[j, :])\n",
    "\n",
    "    # Update the distances in the new cluster's row and column\n",
    "    distance_matrix[i, :] = new_distances\n",
    "    distance_matrix[:, i] = new_distances\n",
    "\n",
    "    # Remove the row and column corresponding to the merged cluster j\n",
    "    distance_matrix = np.delete(distance_matrix, j, axis=0)\n",
    "    distance_matrix = np.delete(distance_matrix, j, axis=1)\n",
    "\n",
    "    return distance_matrix\n",
    "\n",
    "# testing the function\n",
    "updated_distance_matrix = update_distance_matrix_complete(distance_matrix, closest_pair)\n",
    "print(\"Updated Distance Matrix (Complete Linkage):\")\n",
    "print(updated_distance_matrix)\n"
   ]
  },
  {
   "cell_type": "markdown",
   "metadata": {},
   "source": [
    "## c. The function update_distance_matrix_average \n",
    "- Write a function update_distance_matrix_average that updates the distance matrix using the average linkage. The function will take as parameter,\n",
    "the distance matrix and the coordinates of the points / clusters that are merged, and will return the updated matrix.\n",
    "Note: For full grading of the exercise, you should use the cluster sizes in the update.\n"
   ]
  },
  {
   "cell_type": "code",
   "execution_count": 152,
   "metadata": {},
   "outputs": [
    {
     "name": "stdout",
     "output_type": "stream",
     "text": [
      "Updated Distance Matrix (Average Linkage):\n",
      "[[   0.            0.            0.         ...    0.\n",
      "     0.            0.        ]\n",
      " [  50.27772867    0.            0.         ...    0.\n",
      "     0.            0.        ]\n",
      " [ 500.19889044  550.0745404     0.         ...    0.\n",
      "     0.            0.        ]\n",
      " ...\n",
      " [2000.45537066 1950.36476076 2500.16825434 ...    0.\n",
      "     0.            0.        ]\n",
      " [1450.35113679 1400.25685144 1950.08390845 ...  550.11712389\n",
      "     0.            0.        ]\n",
      " [1650.34887221 1600.2636814  2150.09878145 ...  350.11628068\n",
      "   200.06443962    0.        ]]\n"
     ]
    }
   ],
   "source": [
    "def update_distance_matrix_average(distance_matrix, merge_coordinates):\n",
    "    i, j = merge_coordinates\n",
    "    num_clusters = len(distance_matrix)\n",
    "\n",
    "    # Calculate the size of the new cluster formed by merging i and j\n",
    "    cluster_size = 2\n",
    "\n",
    "    # Calculate the average distances to the new cluster\n",
    "    new_distances = (distance_matrix[i, :] + distance_matrix[j, :]) / cluster_size\n",
    "\n",
    "    # Update the distances in the new cluster's row and column\n",
    "    distance_matrix[i, :] = new_distances\n",
    "    distance_matrix[:, i] = new_distances\n",
    "\n",
    "    # Remove the row and column corresponding to the merged cluster j\n",
    "    distance_matrix = np.delete(distance_matrix, j, axis=0)\n",
    "    distance_matrix = np.delete(distance_matrix, j, axis=1)\n",
    "\n",
    "    return distance_matrix\n",
    "\n",
    "# testing the function\n",
    "updated_distance_matrix = update_distance_matrix_average(distance_matrix, closest_pair)\n",
    "print(\"Updated Distance Matrix (Average Linkage):\")\n",
    "print(updated_distance_matrix)\n"
   ]
  },
  {
   "cell_type": "markdown",
   "metadata": {},
   "source": [
    "## d. The function calculate_dendogram_height\n",
    "- Write a function calculate_dendogram_height that calculates the height of the dendogram associated with the newly formed cluster. You should use\n",
    "the formula based on the average of the distances of the points inside the cluster.\n",
    "Note: For full grading of the exercise, you should use the heights of the dendogram associated with the two clusters that are going to be merged.\n"
   ]
  },
  {
   "cell_type": "code",
   "execution_count": 153,
   "metadata": {},
   "outputs": [],
   "source": [
    "def calculate_dendrogram_height(height1, size1, height2, size2):\n",
    "    height = (height1 * size1 + height2 * size2) / (size1 + size2)\n",
    "    return height\n"
   ]
  },
  {
   "cell_type": "markdown",
   "metadata": {},
   "source": [
    "## e. The function calculate_dendogram_height_average \n",
    "- Write a function calculate_dendogram_heigh_average that calculates the height in the case of average linkage. You should use only the previously\n",
    "calculated dendogram heights and the updated distance matrix.\n"
   ]
  },
  {
   "cell_type": "code",
   "execution_count": 154,
   "metadata": {},
   "outputs": [],
   "source": [
    "def calculate_dendrogram_height_average(height1, size1, height2, size2):\n",
    "    height_average = (height1 * size1 + height2 * size2) / (size1 + size2)\n",
    "    return height_average\n"
   ]
  },
  {
   "cell_type": "markdown",
   "metadata": {},
   "source": [
    "## f. The function agglomerative_clustering\n",
    "- Write a function `agglomerative_custering` , which will take as parameters the dataframe `df` , the number of desired clusters `nclusters` , the linkage\n",
    "and the Minkowski distance type p (use Euclidean by default). The number of desired clusters acts as a stopping criteria: the merging should stop if\n",
    "the current number of clusters = `nclusters` .\n",
    "- The function should return the following dictionary:\n",
    "```py\n",
    "{\n",
    "\"membership\" : membership vector, i.e. a vector which for each instance contains the cluster it belongs to\n",
    "\"dendogram_heights\" : {\n",
    "\"cluster1\" : height1,\n",
    "\"cluster2\" : height2,\n",
    "...\n",
    "}\n",
    "}\n",
    "```\n",
    "`dendogram_heights` is a dictionary where each key represents the cluster formed after the merge in one iteration. The cluster is represented as a set /\n",
    "list of indices associated with the instances belonging to his cluster. The values of the dictionary are the calculated heights."
   ]
  },
  {
   "cell_type": "code",
   "execution_count": 155,
   "metadata": {},
   "outputs": [
    {
     "name": "stdout",
     "output_type": "stream",
     "text": [
      "Membership Vector:\n",
      "[[  0   1   2   3   4   5   6   7   8   9  10  11  12  13  14  15  16  17\n",
      "   18  19  20  21  22  23  24  25  26  27  28  29  30  31  32  33  34  35\n",
      "   36  37  38  39  40  41  42  43  44  45  46  47  48  49  50  51  52  53\n",
      "   54  55  56  57  58  59  60  61  62  63  64  65  66  67  68  69  70  71\n",
      "   72  73  74  75  76  77  78  79  80  81  82  83  84  85  86  87  88  89\n",
      "   90  91  92  93  94  95  96  97  98  99 100 101 102 103 104 105 106 107\n",
      "  108 109 110 111 112 113 114 115 116 117 118 119 120 121 122 123 124 125\n",
      "  126 127 128 129 130 131 132 133 134 135 136 137 138 139 140 141 142 143\n",
      "  144 145 146 147 148 149 150 151 152 153 154 155 156 157 158 159 160 161\n",
      "  162 163 164 165 166 167 168 169 170 171 172 173 174 175 176 177 178 179\n",
      "  180 181 182 183 184 185 186 187 188 189 190 191 192 193 194 195 196 197\n",
      "  198 199 200 201 202 203 204 205 206 207 208 209 210 211 212 213 214 215\n",
      "  216 217 218 219 220 221 222 223 224 225 226 227 228 229 230 231 232 233\n",
      "  234 235 236 237 238 239 240 241 242 243 244 245 246 247 248 249 250 251\n",
      "  252 253 254 255 256 257 258 259 260 261 262 263 264 265 266 267 268 269\n",
      "  270 271 272 273 274 275 276 277 278 279 280 281 282 283 284 285 286 287\n",
      "  288 289 290 291 292 293 294 295 296 297 298 299 300 301 302 303 304 305\n",
      "  306 307 308 309 310 311 312 313 314 315 316 317 318 319 320 321 322 323\n",
      "  324 325 326 327 328 329 330 331 332]\n",
      " [334 334 334 334 334 334 334 334 334 334 334 334 334 334 334 334 334 334\n",
      "  334 334 334 334 334 334 334 334 334 334 334 334 334 334 334 334 334 334\n",
      "  334 334 334 334 334 334 334 334 334 334 334 334 334 334 334 334 334 334\n",
      "  334 334 334 334 334 334 334 334 334 334 334 334 334 334 334 334 334 334\n",
      "  334 334 334 334 334 334 334 334 334 334 334 334 334 334 334 334 334 334\n",
      "  334 334 334 334 334 334 334 334 334 334 334 334 334 334 334 334 334 334\n",
      "  334 334 334 334 334 334 334 334 334 334 334 334 334 334 334 334 334 334\n",
      "  334 334 334 334 334 334 334 334 334 334 334 334 334 334 334 334 334 334\n",
      "  334 334 334 334 334 334 334 334 334 334 334 334 334 334 334 334 334 334\n",
      "  334 334 334 334 334 334 334 334 334 334 334 334 334 334 334 334 334 334\n",
      "  334 334 334 334 334 334 334 334 334 334 334 334 334 334 334 334 334 334\n",
      "  334 334 334 334 334 334 334 334 334 334 334 334 334 334 334 334 334 334\n",
      "  334 334 334 334 334 334 334 334 334 334 334 334 334 334 334 334 334 334\n",
      "  334 334 334 334 334 334 334 334 334 334 334 334 334 334 334 334 334 334\n",
      "  334 334 334 334 334 334 334 334 334 334 334 334 334 334 334 334 334 334\n",
      "  334 334 334 334 334 334 334 334 334 334 334 334 334 334 334 334 334 334\n",
      "  334 334 334 334 334 334 334 334 334 334 334 334 334 334 334 334 334 334\n",
      "  334 334 334 334 334 334 334 334 334 334 334 334 334 334 334 334 334 334\n",
      "  334 334 334 334 334 334 334 334 334]]\n",
      "Dendrogram Heights:\n",
      "{334: 0.0}\n"
     ]
    }
   ],
   "source": [
    "def agglomerative_clustering(df, nclusters, linkage, p=2):\n",
    "    # Initialize the distance matrix\n",
    "    distance_matrix = calculate_distance_matrix(df, p)\n",
    "\n",
    "    # Initialize the cluster membership vector\n",
    "    membership = np.arange(len(df))\n",
    "\n",
    "    # Initialize the dendrogram heights dictionary\n",
    "    dendrogram_heights = {}\n",
    "\n",
    "    # Perform agglomerative clustering until the desired number of clusters is reached\n",
    "    while len(np.unique(membership)) > nclusters:\n",
    "        # Find the pair of closest points\n",
    "        if(closest_points(distance_matrix) == None):\n",
    "            break\n",
    "        \n",
    "        closest_pair = closest_points(distance_matrix)\n",
    "\n",
    "        # Merge the closest pair of points\n",
    "        merged_cluster = np.union1d(membership == closest_pair[0], membership == closest_pair[1])\n",
    "\n",
    "        # Update the distance matrix based on the chosen linkage\n",
    "        if linkage == 'single':\n",
    "            distance_matrix = update_distance_matrix_single(distance_matrix, closest_pair)\n",
    "        elif linkage == 'complete':\n",
    "            distance_matrix = update_distance_matrix_complete(distance_matrix, closest_pair)\n",
    "        elif linkage == 'average':\n",
    "            distance_matrix = update_distance_matrix_average(distance_matrix, closest_pair)\n",
    "\n",
    "        # Update the cluster membership vector\n",
    "        membership = np.where(merged_cluster[:, np.newaxis], len(df) + 1, membership)\n",
    "\n",
    "        # Calculate the dendrogram height for the merged cluster\n",
    "        height1 = dendrogram_heights.get(closest_pair[0], 0)\n",
    "        height2 = dendrogram_heights.get(closest_pair[1], 0)\n",
    "        size1 = np.sum(membership == closest_pair[0])\n",
    "        size2 = np.sum(membership == closest_pair[1])\n",
    "        dendrogram_heights[len(df) + 1] = calculate_dendrogram_height_average(height1, size1, height2, size2)\n",
    "\n",
    "    return {'membership': membership, 'dendrogram_heights': dendrogram_heights}\n",
    "\n",
    "# testing the function\n",
    "result = agglomerative_clustering(dataFrame, 3, 'single')\n",
    "print(\"Membership Vector:\")\n",
    "print(result['membership'])\n",
    "print(\"Dendrogram Heights:\")\n",
    "print(result['dendrogram_heights'])\n",
    "\n",
    "\n"
   ]
  }
 ],
 "metadata": {
  "kernelspec": {
   "display_name": "Python 3",
   "language": "python",
   "name": "python3"
  },
  "language_info": {
   "codemirror_mode": {
    "name": "ipython",
    "version": 3
   },
   "file_extension": ".py",
   "mimetype": "text/x-python",
   "name": "python",
   "nbconvert_exporter": "python",
   "pygments_lexer": "ipython3",
   "version": "3.11.7"
  }
 },
 "nbformat": 4,
 "nbformat_minor": 2
}
